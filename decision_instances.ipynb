{
 "cells": [
  {
   "cell_type": "code",
   "execution_count": 1,
   "id": "6b767341",
   "metadata": {},
   "outputs": [],
   "source": [
    "import os\n",
    "import math\n",
    "import numpy as np\n",
    "import pandas as pd\n",
    "from ast import literal_eval\n",
    "from scipy.special import kl_div\n",
    "import itertools\n",
    "import arviz as az\n",
    "import scipy.stats as st\n",
    "import seaborn as sns\n",
    "import matplotlib.pyplot as plt\n",
    "import matplotlib.patches as  mpatches\n",
    "pd.options.mode.chained_assignment = None  # default='warn'\n",
    "\n",
    "from helper_functions import *\n",
    "from metrics import get_dist_to_spaceship_fix_rest, get_dist_to_spaceship_fix_rest_multiple, get_dist_to_obstacles_fix_explore, get_dist_to_obstacles_fix_explore_multiple, get_dist_to_obstacles_sacc, get_dist_to_obstacles_sacc_multiple"
   ]
  },
  {
   "cell_type": "markdown",
   "id": "d0bc069a",
   "metadata": {},
   "source": [
    "Instances within levels that require left vs. right decisions. First entry is y position within level, which can be converted to time. Sensond entry is *correct* decision in terms of less risky."
   ]
  },
  {
   "cell_type": "code",
   "execution_count": 2,
   "id": "f2975d57",
   "metadata": {},
   "outputs": [],
   "source": [
    "decision_instances = {\n",
    "    1: [[130, 'Right'], [340, 'Right'], [375, 'Left']],\n",
    "    2: [[130, 'Right'], [350, 'Right'], [470, 'Right'], [615, 'Left']],\n",
    "    3: [[140, 'Left'], [185, 'Left'], [235, 'Left']], \n",
    "    4: [[190, 'Left'], [375, 'Right'], [420, 'Right'], [600, 'Right'], [715, 'Right'], [830, 'Left']],\n",
    "    5: [[150, 'Left'], [200, 'Right'], [310, 'Left'], [335, 'Left']],\n",
    "    6: [[190, 'Left'], [375, 'Left'], [475, 'Right']],\n",
    "}\n",
    "\n",
    "unsure_about = {\n",
    "    4: [[375, 'Right'], [715, 'Right']]\n",
    "}"
   ]
  },
  {
   "cell_type": "markdown",
   "id": "8f0be350",
   "metadata": {},
   "source": [
    "Only successful runs..."
   ]
  },
  {
   "cell_type": "code",
   "execution_count": 3,
   "id": "582792df",
   "metadata": {},
   "outputs": [],
   "source": [
    "root_dir = os.getcwd()\n",
    "\n",
    "data_dir = \"/experimental_data/\"\n",
    "\n",
    "target_string = \"output\"\n",
    "done_string = \"done\"\n",
    "\n",
    "successfull_runs = []\n",
    "\n",
    "for subdir, dirs, files in os.walk(root_dir+data_dir):\n",
    "    for file in files:\n",
    "        if done_string in file:\n",
    "            successfull_runs.append(file)"
   ]
  },
  {
   "cell_type": "code",
   "execution_count": 4,
   "id": "d809b022",
   "metadata": {},
   "outputs": [],
   "source": [
    "snippets = []\n",
    "\n",
    "for file_name in successfull_runs:\n",
    "    temp = file_name.split(\"_\")\n",
    "    code = temp[0]\n",
    "    exp_trial = temp[-1]\n",
    "    exp_trial = exp_trial[:2]  # cut off .csv\n",
    "    \n",
    "    snippets.append([code, exp_trial])"
   ]
  },
  {
   "cell_type": "code",
   "execution_count": 5,
   "id": "29303732",
   "metadata": {},
   "outputs": [
    {
     "data": {
      "text/html": [
       "<div>\n",
       "<style scoped>\n",
       "    .dataframe tbody tr th:only-of-type {\n",
       "        vertical-align: middle;\n",
       "    }\n",
       "\n",
       "    .dataframe tbody tr th {\n",
       "        vertical-align: top;\n",
       "    }\n",
       "\n",
       "    .dataframe thead th {\n",
       "        text-align: right;\n",
       "    }\n",
       "</style>\n",
       "<table border=\"1\" class=\"dataframe\">\n",
       "  <thead>\n",
       "    <tr style=\"text-align: right;\">\n",
       "      <th></th>\n",
       "      <th>code</th>\n",
       "      <th>trial</th>\n",
       "    </tr>\n",
       "  </thead>\n",
       "  <tbody>\n",
       "    <tr>\n",
       "      <th>0</th>\n",
       "      <td>OK01UE</td>\n",
       "      <td>10</td>\n",
       "    </tr>\n",
       "    <tr>\n",
       "      <th>1</th>\n",
       "      <td>OK01UE</td>\n",
       "      <td>25</td>\n",
       "    </tr>\n",
       "    <tr>\n",
       "      <th>2</th>\n",
       "      <td>OK01UE</td>\n",
       "      <td>16</td>\n",
       "    </tr>\n",
       "    <tr>\n",
       "      <th>3</th>\n",
       "      <td>OK01UE</td>\n",
       "      <td>27</td>\n",
       "    </tr>\n",
       "    <tr>\n",
       "      <th>4</th>\n",
       "      <td>OK01UE</td>\n",
       "      <td>07</td>\n",
       "    </tr>\n",
       "    <tr>\n",
       "      <th>...</th>\n",
       "      <td>...</td>\n",
       "      <td>...</td>\n",
       "    </tr>\n",
       "    <tr>\n",
       "      <th>854</th>\n",
       "      <td>UD06AD</td>\n",
       "      <td>16</td>\n",
       "    </tr>\n",
       "    <tr>\n",
       "      <th>855</th>\n",
       "      <td>UD06AD</td>\n",
       "      <td>13</td>\n",
       "    </tr>\n",
       "    <tr>\n",
       "      <th>856</th>\n",
       "      <td>UD06AD</td>\n",
       "      <td>35</td>\n",
       "    </tr>\n",
       "    <tr>\n",
       "      <th>857</th>\n",
       "      <td>UD06AD</td>\n",
       "      <td>45</td>\n",
       "    </tr>\n",
       "    <tr>\n",
       "      <th>858</th>\n",
       "      <td>UD06AD</td>\n",
       "      <td>23</td>\n",
       "    </tr>\n",
       "  </tbody>\n",
       "</table>\n",
       "<p>859 rows × 2 columns</p>\n",
       "</div>"
      ],
      "text/plain": [
       "       code trial\n",
       "0    OK01UE    10\n",
       "1    OK01UE    25\n",
       "2    OK01UE    16\n",
       "3    OK01UE    27\n",
       "4    OK01UE    07\n",
       "..      ...   ...\n",
       "854  UD06AD    16\n",
       "855  UD06AD    13\n",
       "856  UD06AD    35\n",
       "857  UD06AD    45\n",
       "858  UD06AD    23\n",
       "\n",
       "[859 rows x 2 columns]"
      ]
     },
     "execution_count": 5,
     "metadata": {},
     "output_type": "execute_result"
    }
   ],
   "source": [
    "successfull_runs_df = pd.DataFrame(snippets, columns = ['code', 'trial'])\n",
    "successfull_runs_df"
   ]
  },
  {
   "cell_type": "code",
   "execution_count": 6,
   "id": "71ae93fd",
   "metadata": {},
   "outputs": [],
   "source": [
    "decision_instances_data = pd.DataFrame()\n",
    "\n",
    "for id_code in np.unique(successfull_runs_df.code):\n",
    "    \n",
    "    successfull_runs = list(successfull_runs_df.loc[successfull_runs_df['code'] == id_code].trial)\n",
    "    \n",
    "    path = root_dir + data_dir + str(id_code) + \"/data\"\n",
    "    for subdir, dirs, files in os.walk(path):\n",
    "        for data_file in files:\n",
    "            if \".csv\" in str(data_file):\n",
    "\n",
    "                temp = str(data_file).split(\"_\")\n",
    "                # extract features of run from file_name coding\n",
    "                level = temp[2][0]\n",
    "                drift = temp[2][1]\n",
    "                input_noise = temp[2][2]\n",
    "                exp_trial = temp[-1]\n",
    "                exp_trial = exp_trial[:2]\n",
    "                # check for trial number of successfull trials\n",
    "\n",
    "                if exp_trial in successfull_runs and level != '0':\n",
    "\n",
    "                    #f\"experimental_data/{id_code}/eye_data/{data_file}\"\n",
    "                    temp_data = pre_process_input_data(pd.read_csv((f\"experimental_data/{id_code}/data/{data_file}\"), index_col=False))\n",
    "                    \n",
    "                    # add identifying information to temp_data\n",
    "                    temp_data[\"ID\"] = id_code\n",
    "                    temp_data[\"level\"] = level\n",
    "                    temp_data[\"drift\"] = drift\n",
    "                    temp_data[\"input_noise\"] = input_noise\n",
    "                    temp_data[\"decision_instance_y\"] = np.nan\n",
    "                    temp_data[\"decision_instance_safe_choice\"] = np.nan\n",
    "                    temp_data[\"N_visible_obstacles\"] = np.nan\n",
    "                    \n",
    "                    # extract data from decision_instance\n",
    "                    decision_instances_features = decision_instances[int(level)]\n",
    "                    \n",
    "                    for features in decision_instances_features:\n",
    "                        \n",
    "                        t_decision_instance = features[0]*0.05+0.7  # time point of decision instance\n",
    "                        \n",
    "                        # row in temp_data that's closest in terms of time_played to t_decision_instance\n",
    "                        input_data_subset = temp_data.iloc[(temp_data['time_played'] - t_decision_instance).abs().argsort()[:1]]\n",
    "                        \n",
    "                        # insert decision_instance identifier\n",
    "                        input_data_subset.decision_instance_y = features[0]\n",
    "                        \n",
    "                        # which option is less risky in this instance\n",
    "                        input_data_subset.decision_instance_safe_choice = features[1]\n",
    "                        \n",
    "                        # append row to overall data\n",
    "                        decision_instances_data = pd.concat([decision_instances_data, input_data_subset])                    \n"
   ]
  },
  {
   "cell_type": "code",
   "execution_count": 7,
   "id": "4a6cdbf4",
   "metadata": {},
   "outputs": [],
   "source": [
    "decision_instances_data = decision_instances_data.reset_index()"
   ]
  },
  {
   "cell_type": "code",
   "execution_count": 8,
   "id": "b416e506",
   "metadata": {},
   "outputs": [
    {
     "data": {
      "text/plain": [
       "0       [[891, 42], [693, 276], [1053, 420], [1017, 65...\n",
       "1       [[1293, 24], [951, 96], [1239, 114], [1185, 38...\n",
       "2         [[675, 54], [621, 180], [531, 234], [855, 396]]\n",
       "3                               [[1015, 456], [799, 564]]\n",
       "4                                            [[953, 810]]\n",
       "                              ...                        \n",
       "3241    [[1241, 0], [917, 144], [1097, 342], [1241, 504]]\n",
       "3242                 [[822, 396], [606, 504], [948, 774]]\n",
       "3243                [[939, 606], [1011, 642], [741, 696]]\n",
       "3244                                         [[812, 726]]\n",
       "3245                                                   []\n",
       "Name: visible_obstacles, Length: 3246, dtype: object"
      ]
     },
     "execution_count": 8,
     "metadata": {},
     "output_type": "execute_result"
    }
   ],
   "source": [
    "decision_instances_data.visible_obstacles"
   ]
  },
  {
   "cell_type": "markdown",
   "id": "e8d115d3",
   "metadata": {},
   "source": [
    "Of the visible obstacles which one is nearest to spaceship in terms of y coordinates. Then check whether this obstacle is left or right from spaceship."
   ]
  },
  {
   "cell_type": "code",
   "execution_count": 9,
   "id": "bf1a7aea",
   "metadata": {},
   "outputs": [],
   "source": [
    "# find closest obstacle on y-axis:\n",
    "\n",
    "decision_instances_data['closest_obstacle_x_coord'] = np.nan\n",
    "decision_instances_data['closest_obstacle_y_coord'] = np.nan\n",
    "\n",
    "for rowID, row in decision_instances_data.iterrows():\n",
    "    min_distance = 10000 # arbitrarily high number\n",
    "    for obstacle in row.visible_obstacles:\n",
    "        # considering distance on vertcial (y) axis\n",
    "        if abs(obstacle[1] - row.player_pos[1]) < min_distance:\n",
    "            min_distance = abs(obstacle[1] - row.player_pos[1])\n",
    "            decision_instances_data['closest_obstacle_x_coord'].iloc[rowID] = obstacle[0]\n",
    "            decision_instances_data['closest_obstacle_y_coord'].iloc[rowID] = obstacle[1]\n",
    "                "
   ]
  },
  {
   "cell_type": "code",
   "execution_count": 10,
   "id": "26fdc91f",
   "metadata": {},
   "outputs": [],
   "source": [
    "# find out whether participant steered around closest obstacle left vs. right\n",
    "cond = (decision_instances_data.closest_obstacle_x_coord > 954)\n",
    "# if obstacle.x is smaller than spaceship.x, then right, elif greater, then left\n",
    "decision_instances_data['avoidance_by_steering'] = np.where(cond, 'Left', 'Right')"
   ]
  },
  {
   "cell_type": "code",
   "execution_count": 11,
   "id": "4b6e5b69",
   "metadata": {},
   "outputs": [
    {
     "data": {
      "text/plain": [
       "0       Right\n",
       "1        Left\n",
       "2       Right\n",
       "3        Left\n",
       "4       Right\n",
       "        ...  \n",
       "3241     Left\n",
       "3242    Right\n",
       "3243    Right\n",
       "3244    Right\n",
       "3245    Right\n",
       "Name: avoidance_by_steering, Length: 3246, dtype: object"
      ]
     },
     "execution_count": 11,
     "metadata": {},
     "output_type": "execute_result"
    }
   ],
   "source": [
    "decision_instances_data['avoidance_by_steering']"
   ]
  },
  {
   "cell_type": "code",
   "execution_count": 12,
   "id": "89e67713",
   "metadata": {},
   "outputs": [],
   "source": [
    "cond = (decision_instances_data.avoidance_by_steering == decision_instances_data.decision_instance_safe_choice)\n",
    "\n",
    "decision_instances_data['less_risky_option_chosen'] = np.where(cond, True, False)"
   ]
  },
  {
   "cell_type": "code",
   "execution_count": 13,
   "id": "f5bc7e43",
   "metadata": {},
   "outputs": [],
   "source": [
    "# inserting identfier for decision instance\n",
    "decision_instances_data['decision_instance_id'] = decision_instances_data.level.astype(str) + decision_instances_data.decision_instance_y.astype(str)"
   ]
  },
  {
   "cell_type": "code",
   "execution_count": 14,
   "id": "c92740f4",
   "metadata": {},
   "outputs": [
    {
     "data": {
      "text/plain": [
       "0       3140\n",
       "1       3185\n",
       "2       3235\n",
       "3       2130\n",
       "4       2350\n",
       "        ... \n",
       "3241    4830\n",
       "3242    2130\n",
       "3243    2350\n",
       "3244    2470\n",
       "3245    2615\n",
       "Name: decision_instance_id, Length: 3246, dtype: object"
      ]
     },
     "execution_count": 14,
     "metadata": {},
     "output_type": "execute_result"
    }
   ],
   "source": [
    "decision_instances_data['decision_instance_id']"
   ]
  },
  {
   "cell_type": "markdown",
   "id": "1abe480c",
   "metadata": {},
   "source": [
    "### Inserting additional information"
   ]
  },
  {
   "cell_type": "code",
   "execution_count": 15,
   "id": "3b7d2194",
   "metadata": {},
   "outputs": [],
   "source": [
    "# N_visible_obstacles\n",
    "decision_instances_data['N_visible_obstacles'] = decision_instances_data.visible_obstacles.apply(lambda x: len(x))"
   ]
  },
  {
   "cell_type": "markdown",
   "id": "b63183d8",
   "metadata": {},
   "source": [
    "# I AM HERE"
   ]
  },
  {
   "cell_type": "markdown",
   "id": "6052babb",
   "metadata": {},
   "source": [
    "Avoidance of obstacle in direction of drift?"
   ]
  },
  {
   "cell_type": "code",
   "execution_count": 16,
   "id": "022ab8eb",
   "metadata": {},
   "outputs": [],
   "source": [
    "decision_instances_data['N_visible_drift_tiles'] = decision_instances_data.visible_drift_tiles.apply(lambda row: len(row))\n"
   ]
  },
  {
   "cell_type": "code",
   "execution_count": 17,
   "id": "72613e78",
   "metadata": {
    "scrolled": true
   },
   "outputs": [
    {
     "data": {
      "text/plain": [
       "0       1\n",
       "1       2\n",
       "2       0\n",
       "3       0\n",
       "4       0\n",
       "       ..\n",
       "3241    2\n",
       "3242    0\n",
       "3243    0\n",
       "3244    0\n",
       "3245    0\n",
       "Name: N_visible_drift_tiles, Length: 3246, dtype: int64"
      ]
     },
     "execution_count": 17,
     "metadata": {},
     "output_type": "execute_result"
    }
   ],
   "source": [
    "decision_instances_data['N_visible_drift_tiles']"
   ]
  },
  {
   "cell_type": "code",
   "execution_count": 18,
   "id": "67896943",
   "metadata": {},
   "outputs": [
    {
     "data": {
      "text/plain": [
       "[[522, 54]]"
      ]
     },
     "execution_count": 18,
     "metadata": {},
     "output_type": "execute_result"
    }
   ],
   "source": [
    "decision_instances_data.visible_drift_tiles.iloc[0]"
   ]
  },
  {
   "cell_type": "code",
   "execution_count": 19,
   "id": "293f6f03",
   "metadata": {},
   "outputs": [
    {
     "data": {
      "text/plain": [
       "522"
      ]
     },
     "execution_count": 19,
     "metadata": {},
     "output_type": "execute_result"
    }
   ],
   "source": [
    "decision_instances_data.visible_drift_tiles.iloc[0][0][0]"
   ]
  },
  {
   "cell_type": "code",
   "execution_count": 21,
   "id": "34ad0181",
   "metadata": {},
   "outputs": [
    {
     "data": {
      "text/plain": [
       "954"
      ]
     },
     "execution_count": 21,
     "metadata": {},
     "output_type": "execute_result"
    }
   ],
   "source": [
    "decision_instances_data.player_pos.iloc[0][0]"
   ]
  },
  {
   "cell_type": "code",
   "execution_count": 33,
   "id": "c0108f79",
   "metadata": {
    "scrolled": true
   },
   "outputs": [],
   "source": [
    "decision_instances_data['drift_side'] = decision_instances_data.loc[decision_instances_data.N_visible_drift_tiles > 0, \"visible_drift_tiles\"].apply(lambda row: 954 - row[0][0])"
   ]
  },
  {
   "cell_type": "code",
   "execution_count": 34,
   "id": "763a9366",
   "metadata": {},
   "outputs": [
    {
     "data": {
      "text/plain": [
       "0       432.0\n",
       "1       300.0\n",
       "2         NaN\n",
       "3         NaN\n",
       "4         NaN\n",
       "        ...  \n",
       "3241    410.0\n",
       "3242      NaN\n",
       "3243      NaN\n",
       "3244      NaN\n",
       "3245      NaN\n",
       "Name: drift_side, Length: 3246, dtype: float64"
      ]
     },
     "execution_count": 34,
     "metadata": {},
     "output_type": "execute_result"
    }
   ],
   "source": [
    "decision_instances_data['drift_side']"
   ]
  },
  {
   "cell_type": "markdown",
   "id": "d0eb10d3",
   "metadata": {},
   "source": [
    "if drift_side is > 0: drift to the right;\n",
    "elif drift_side is < 0: drift to the left"
   ]
  },
  {
   "cell_type": "code",
   "execution_count": 49,
   "id": "a3430942",
   "metadata": {},
   "outputs": [
    {
     "name": "stderr",
     "output_type": "stream",
     "text": [
      "/var/folders/z1/crk0j_p52yq850yynjpq93wm0000gn/T/ipykernel_1180/2610939102.py:3: FutureWarning: Setting an item of incompatible dtype is deprecated and will raise in a future error of pandas. Value 'Right' has dtype incompatible with float64, please explicitly cast to a compatible dtype first.\n",
      "  decision_instances_data_copy.loc[decision_instances_data_copy['drift_side'] > 0, 'drift_direction'] = 'Right'\n"
     ]
    }
   ],
   "source": [
    "decision_instances_data_copy = decision_instances_data.copy()\n",
    "\n",
    "decision_instances_data_copy.loc[decision_instances_data_copy['drift_side'] > 0, 'drift_direction'] = 'Right'\n",
    "decision_instances_data_copy.loc[decision_instances_data_copy['drift_side'] < 0, 'drift_direction'] = 'Left'\n"
   ]
  },
  {
   "cell_type": "code",
   "execution_count": 50,
   "id": "774ce69e",
   "metadata": {},
   "outputs": [
    {
     "data": {
      "text/html": [
       "<div>\n",
       "<style scoped>\n",
       "    .dataframe tbody tr th:only-of-type {\n",
       "        vertical-align: middle;\n",
       "    }\n",
       "\n",
       "    .dataframe tbody tr th {\n",
       "        vertical-align: top;\n",
       "    }\n",
       "\n",
       "    .dataframe thead th {\n",
       "        text-align: right;\n",
       "    }\n",
       "</style>\n",
       "<table border=\"1\" class=\"dataframe\">\n",
       "  <thead>\n",
       "    <tr style=\"text-align: right;\">\n",
       "      <th></th>\n",
       "      <th>index</th>\n",
       "      <th>frame</th>\n",
       "      <th>trial</th>\n",
       "      <th>attempt</th>\n",
       "      <th>time_played</th>\n",
       "      <th>time_tag</th>\n",
       "      <th>level_size_y</th>\n",
       "      <th>player_pos</th>\n",
       "      <th>collision</th>\n",
       "      <th>current_input</th>\n",
       "      <th>...</th>\n",
       "      <th>N_visible_obstacles</th>\n",
       "      <th>last_walls_tile</th>\n",
       "      <th>closest_obstacle_x_coord</th>\n",
       "      <th>closest_obstacle_y_coord</th>\n",
       "      <th>avoidance_by_steering</th>\n",
       "      <th>less_risky_option_chosen</th>\n",
       "      <th>decision_instance_id</th>\n",
       "      <th>N_visible_drift_tiles</th>\n",
       "      <th>drift_direction</th>\n",
       "      <th>drift_side</th>\n",
       "    </tr>\n",
       "  </thead>\n",
       "  <tbody>\n",
       "    <tr>\n",
       "      <th>0</th>\n",
       "      <td>451</td>\n",
       "      <td>451</td>\n",
       "      <td>3</td>\n",
       "      <td>1</td>\n",
       "      <td>7.692423</td>\n",
       "      <td>6451.940005</td>\n",
       "      <td>9018</td>\n",
       "      <td>[954, 270]</td>\n",
       "      <td>False</td>\n",
       "      <td>Left</td>\n",
       "      <td>...</td>\n",
       "      <td>5</td>\n",
       "      <td>NaN</td>\n",
       "      <td>693.0</td>\n",
       "      <td>276.0</td>\n",
       "      <td>Right</td>\n",
       "      <td>False</td>\n",
       "      <td>3140</td>\n",
       "      <td>1</td>\n",
       "      <td>Right</td>\n",
       "      <td>432.0</td>\n",
       "    </tr>\n",
       "    <tr>\n",
       "      <th>1</th>\n",
       "      <td>580</td>\n",
       "      <td>580</td>\n",
       "      <td>3</td>\n",
       "      <td>1</td>\n",
       "      <td>9.952013</td>\n",
       "      <td>6451.940005</td>\n",
       "      <td>9018</td>\n",
       "      <td>[954, 270]</td>\n",
       "      <td>False</td>\n",
       "      <td>Left</td>\n",
       "      <td>...</td>\n",
       "      <td>6</td>\n",
       "      <td>NaN</td>\n",
       "      <td>1185.0</td>\n",
       "      <td>384.0</td>\n",
       "      <td>Left</td>\n",
       "      <td>True</td>\n",
       "      <td>3185</td>\n",
       "      <td>2</td>\n",
       "      <td>Right</td>\n",
       "      <td>300.0</td>\n",
       "    </tr>\n",
       "    <tr>\n",
       "      <th>2</th>\n",
       "      <td>725</td>\n",
       "      <td>725</td>\n",
       "      <td>3</td>\n",
       "      <td>1</td>\n",
       "      <td>12.452023</td>\n",
       "      <td>6451.940005</td>\n",
       "      <td>9018</td>\n",
       "      <td>[954, 270]</td>\n",
       "      <td>False</td>\n",
       "      <td>NaN</td>\n",
       "      <td>...</td>\n",
       "      <td>4</td>\n",
       "      <td>NaN</td>\n",
       "      <td>531.0</td>\n",
       "      <td>234.0</td>\n",
       "      <td>Right</td>\n",
       "      <td>False</td>\n",
       "      <td>3235</td>\n",
       "      <td>0</td>\n",
       "      <td>NaN</td>\n",
       "      <td>NaN</td>\n",
       "    </tr>\n",
       "    <tr>\n",
       "      <th>3</th>\n",
       "      <td>397</td>\n",
       "      <td>397</td>\n",
       "      <td>2</td>\n",
       "      <td>1</td>\n",
       "      <td>7.196248</td>\n",
       "      <td>8239.990344</td>\n",
       "      <td>18018</td>\n",
       "      <td>[954, 270]</td>\n",
       "      <td>False</td>\n",
       "      <td>NaN</td>\n",
       "      <td>...</td>\n",
       "      <td>2</td>\n",
       "      <td>NaN</td>\n",
       "      <td>1015.0</td>\n",
       "      <td>456.0</td>\n",
       "      <td>Left</td>\n",
       "      <td>False</td>\n",
       "      <td>2130</td>\n",
       "      <td>0</td>\n",
       "      <td>NaN</td>\n",
       "      <td>NaN</td>\n",
       "    </tr>\n",
       "    <tr>\n",
       "      <th>4</th>\n",
       "      <td>992</td>\n",
       "      <td>992</td>\n",
       "      <td>2</td>\n",
       "      <td>1</td>\n",
       "      <td>18.200840</td>\n",
       "      <td>8239.990344</td>\n",
       "      <td>18018</td>\n",
       "      <td>[954, 270]</td>\n",
       "      <td>False</td>\n",
       "      <td>NaN</td>\n",
       "      <td>...</td>\n",
       "      <td>1</td>\n",
       "      <td>NaN</td>\n",
       "      <td>953.0</td>\n",
       "      <td>810.0</td>\n",
       "      <td>Right</td>\n",
       "      <td>True</td>\n",
       "      <td>2350</td>\n",
       "      <td>0</td>\n",
       "      <td>NaN</td>\n",
       "      <td>NaN</td>\n",
       "    </tr>\n",
       "    <tr>\n",
       "      <th>...</th>\n",
       "      <td>...</td>\n",
       "      <td>...</td>\n",
       "      <td>...</td>\n",
       "      <td>...</td>\n",
       "      <td>...</td>\n",
       "      <td>...</td>\n",
       "      <td>...</td>\n",
       "      <td>...</td>\n",
       "      <td>...</td>\n",
       "      <td>...</td>\n",
       "      <td>...</td>\n",
       "      <td>...</td>\n",
       "      <td>...</td>\n",
       "      <td>...</td>\n",
       "      <td>...</td>\n",
       "      <td>...</td>\n",
       "      <td>...</td>\n",
       "      <td>...</td>\n",
       "      <td>...</td>\n",
       "      <td>...</td>\n",
       "      <td>...</td>\n",
       "    </tr>\n",
       "    <tr>\n",
       "      <th>3241</th>\n",
       "      <td>2297</td>\n",
       "      <td>2297</td>\n",
       "      <td>4</td>\n",
       "      <td>3</td>\n",
       "      <td>42.189174</td>\n",
       "      <td>22850.897579</td>\n",
       "      <td>18018</td>\n",
       "      <td>[954, 270]</td>\n",
       "      <td>False</td>\n",
       "      <td>Left</td>\n",
       "      <td>...</td>\n",
       "      <td>4</td>\n",
       "      <td>[1348, 4746]</td>\n",
       "      <td>1097.0</td>\n",
       "      <td>342.0</td>\n",
       "      <td>Left</td>\n",
       "      <td>True</td>\n",
       "      <td>4830</td>\n",
       "      <td>2</td>\n",
       "      <td>Right</td>\n",
       "      <td>410.0</td>\n",
       "    </tr>\n",
       "    <tr>\n",
       "      <th>3242</th>\n",
       "      <td>407</td>\n",
       "      <td>407</td>\n",
       "      <td>2</td>\n",
       "      <td>1</td>\n",
       "      <td>7.204197</td>\n",
       "      <td>22382.011747</td>\n",
       "      <td>18018</td>\n",
       "      <td>[954, 270]</td>\n",
       "      <td>False</td>\n",
       "      <td>NaN</td>\n",
       "      <td>...</td>\n",
       "      <td>3</td>\n",
       "      <td>[1200, 16086]</td>\n",
       "      <td>822.0</td>\n",
       "      <td>396.0</td>\n",
       "      <td>Right</td>\n",
       "      <td>True</td>\n",
       "      <td>2130</td>\n",
       "      <td>0</td>\n",
       "      <td>NaN</td>\n",
       "      <td>NaN</td>\n",
       "    </tr>\n",
       "    <tr>\n",
       "      <th>3243</th>\n",
       "      <td>1026</td>\n",
       "      <td>1026</td>\n",
       "      <td>2</td>\n",
       "      <td>1</td>\n",
       "      <td>18.196864</td>\n",
       "      <td>22382.011747</td>\n",
       "      <td>18018</td>\n",
       "      <td>[954, 270]</td>\n",
       "      <td>False</td>\n",
       "      <td>NaN</td>\n",
       "      <td>...</td>\n",
       "      <td>3</td>\n",
       "      <td>[1299, 12372]</td>\n",
       "      <td>939.0</td>\n",
       "      <td>606.0</td>\n",
       "      <td>Right</td>\n",
       "      <td>True</td>\n",
       "      <td>2350</td>\n",
       "      <td>0</td>\n",
       "      <td>NaN</td>\n",
       "      <td>NaN</td>\n",
       "    </tr>\n",
       "    <tr>\n",
       "      <th>3244</th>\n",
       "      <td>1366</td>\n",
       "      <td>1366</td>\n",
       "      <td>2</td>\n",
       "      <td>1</td>\n",
       "      <td>24.195278</td>\n",
       "      <td>22382.011747</td>\n",
       "      <td>18018</td>\n",
       "      <td>[954, 270]</td>\n",
       "      <td>False</td>\n",
       "      <td>NaN</td>\n",
       "      <td>...</td>\n",
       "      <td>1</td>\n",
       "      <td>[1280, 10332]</td>\n",
       "      <td>812.0</td>\n",
       "      <td>726.0</td>\n",
       "      <td>Right</td>\n",
       "      <td>True</td>\n",
       "      <td>2470</td>\n",
       "      <td>0</td>\n",
       "      <td>NaN</td>\n",
       "      <td>NaN</td>\n",
       "    </tr>\n",
       "    <tr>\n",
       "      <th>3245</th>\n",
       "      <td>1780</td>\n",
       "      <td>1780</td>\n",
       "      <td>2</td>\n",
       "      <td>1</td>\n",
       "      <td>31.454147</td>\n",
       "      <td>22382.011747</td>\n",
       "      <td>18018</td>\n",
       "      <td>[954, 270]</td>\n",
       "      <td>False</td>\n",
       "      <td>NaN</td>\n",
       "      <td>...</td>\n",
       "      <td>0</td>\n",
       "      <td>[1371, 7848]</td>\n",
       "      <td>NaN</td>\n",
       "      <td>NaN</td>\n",
       "      <td>Right</td>\n",
       "      <td>False</td>\n",
       "      <td>2615</td>\n",
       "      <td>0</td>\n",
       "      <td>NaN</td>\n",
       "      <td>NaN</td>\n",
       "    </tr>\n",
       "  </tbody>\n",
       "</table>\n",
       "<p>3246 rows × 42 columns</p>\n",
       "</div>"
      ],
      "text/plain": [
       "      index  frame  trial  attempt  time_played      time_tag  level_size_y  \\\n",
       "0       451    451      3        1     7.692423   6451.940005          9018   \n",
       "1       580    580      3        1     9.952013   6451.940005          9018   \n",
       "2       725    725      3        1    12.452023   6451.940005          9018   \n",
       "3       397    397      2        1     7.196248   8239.990344         18018   \n",
       "4       992    992      2        1    18.200840   8239.990344         18018   \n",
       "...     ...    ...    ...      ...          ...           ...           ...   \n",
       "3241   2297   2297      4        3    42.189174  22850.897579         18018   \n",
       "3242    407    407      2        1     7.204197  22382.011747         18018   \n",
       "3243   1026   1026      2        1    18.196864  22382.011747         18018   \n",
       "3244   1366   1366      2        1    24.195278  22382.011747         18018   \n",
       "3245   1780   1780      2        1    31.454147  22382.011747         18018   \n",
       "\n",
       "      player_pos  collision current_input  ...  N_visible_obstacles  \\\n",
       "0     [954, 270]      False          Left  ...                    5   \n",
       "1     [954, 270]      False          Left  ...                    6   \n",
       "2     [954, 270]      False           NaN  ...                    4   \n",
       "3     [954, 270]      False           NaN  ...                    2   \n",
       "4     [954, 270]      False           NaN  ...                    1   \n",
       "...          ...        ...           ...  ...                  ...   \n",
       "3241  [954, 270]      False          Left  ...                    4   \n",
       "3242  [954, 270]      False           NaN  ...                    3   \n",
       "3243  [954, 270]      False           NaN  ...                    3   \n",
       "3244  [954, 270]      False           NaN  ...                    1   \n",
       "3245  [954, 270]      False           NaN  ...                    0   \n",
       "\n",
       "      last_walls_tile  closest_obstacle_x_coord closest_obstacle_y_coord  \\\n",
       "0                 NaN                     693.0                    276.0   \n",
       "1                 NaN                    1185.0                    384.0   \n",
       "2                 NaN                     531.0                    234.0   \n",
       "3                 NaN                    1015.0                    456.0   \n",
       "4                 NaN                     953.0                    810.0   \n",
       "...               ...                       ...                      ...   \n",
       "3241     [1348, 4746]                    1097.0                    342.0   \n",
       "3242    [1200, 16086]                     822.0                    396.0   \n",
       "3243    [1299, 12372]                     939.0                    606.0   \n",
       "3244    [1280, 10332]                     812.0                    726.0   \n",
       "3245     [1371, 7848]                       NaN                      NaN   \n",
       "\n",
       "      avoidance_by_steering less_risky_option_chosen  decision_instance_id  \\\n",
       "0                     Right                    False                  3140   \n",
       "1                      Left                     True                  3185   \n",
       "2                     Right                    False                  3235   \n",
       "3                      Left                    False                  2130   \n",
       "4                     Right                     True                  2350   \n",
       "...                     ...                      ...                   ...   \n",
       "3241                   Left                     True                  4830   \n",
       "3242                  Right                     True                  2130   \n",
       "3243                  Right                     True                  2350   \n",
       "3244                  Right                     True                  2470   \n",
       "3245                  Right                    False                  2615   \n",
       "\n",
       "     N_visible_drift_tiles  drift_direction  drift_side  \n",
       "0                        1            Right       432.0  \n",
       "1                        2            Right       300.0  \n",
       "2                        0              NaN         NaN  \n",
       "3                        0              NaN         NaN  \n",
       "4                        0              NaN         NaN  \n",
       "...                    ...              ...         ...  \n",
       "3241                     2            Right       410.0  \n",
       "3242                     0              NaN         NaN  \n",
       "3243                     0              NaN         NaN  \n",
       "3244                     0              NaN         NaN  \n",
       "3245                     0              NaN         NaN  \n",
       "\n",
       "[3246 rows x 42 columns]"
      ]
     },
     "execution_count": 50,
     "metadata": {},
     "output_type": "execute_result"
    }
   ],
   "source": [
    "decision_instances_data_copy"
   ]
  },
  {
   "cell_type": "markdown",
   "id": "879565ce",
   "metadata": {},
   "source": [
    "now is avoidance equal to drift_direction?"
   ]
  },
  {
   "cell_type": "code",
   "execution_count": 51,
   "id": "758f8637",
   "metadata": {},
   "outputs": [],
   "source": [
    "cond = (decision_instances_data_copy.avoidance_by_steering == decision_instances_data_copy.drift_direction)\n",
    "\n",
    "decision_instances_data_copy['coherent_avoid_drift'] = np.where(cond, True, False)"
   ]
  },
  {
   "cell_type": "code",
   "execution_count": 52,
   "id": "2b7e26a0",
   "metadata": {},
   "outputs": [
    {
     "data": {
      "text/plain": [
       "0        True\n",
       "1       False\n",
       "2       False\n",
       "3       False\n",
       "4       False\n",
       "        ...  \n",
       "3241    False\n",
       "3242    False\n",
       "3243    False\n",
       "3244    False\n",
       "3245    False\n",
       "Name: coherent_avoid_drift, Length: 3246, dtype: bool"
      ]
     },
     "execution_count": 52,
     "metadata": {},
     "output_type": "execute_result"
    }
   ],
   "source": [
    "decision_instances_data_copy['coherent_avoid_drift']"
   ]
  },
  {
   "cell_type": "markdown",
   "id": "c746a68b",
   "metadata": {},
   "source": [
    "### Writing to .csv"
   ]
  },
  {
   "cell_type": "code",
   "execution_count": 53,
   "id": "5edab329",
   "metadata": {},
   "outputs": [],
   "source": [
    "# saving progress\n",
    "decision_instances_data_copy.to_csv('input_data/decision_instances.csv', sep=',')"
   ]
  }
 ],
 "metadata": {
  "kernelspec": {
   "display_name": "Python 3 (ipykernel)",
   "language": "python",
   "name": "python3"
  },
  "language_info": {
   "codemirror_mode": {
    "name": "ipython",
    "version": 3
   },
   "file_extension": ".py",
   "mimetype": "text/x-python",
   "name": "python",
   "nbconvert_exporter": "python",
   "pygments_lexer": "ipython3",
   "version": "3.11.5"
  }
 },
 "nbformat": 4,
 "nbformat_minor": 5
}
